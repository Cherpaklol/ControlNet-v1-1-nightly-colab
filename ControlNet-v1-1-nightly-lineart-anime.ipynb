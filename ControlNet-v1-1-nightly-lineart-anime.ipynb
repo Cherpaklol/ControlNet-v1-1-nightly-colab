{
  "cells": [
    {
      "cell_type": "markdown",
      "metadata": {
        "id": "view-in-github"
      },
      "source": [
        "[![Open In Colab](https://colab.research.google.com/assets/colab-badge.svg)](https://colab.research.google.com/github/camenduru/ControlNet-v1-1-nightly-colab/blob/main/ControlNet-v1-1-nightly-lineart-anime.ipynb)"
      ]
    },
    {
      "cell_type": "code",
      "execution_count": null,
      "metadata": {
        "id": "xNrvuLUUekxr"
      },
      "outputs": [],
      "source": [
        "%cd /content\n",
        "!git clone https://github.com/lllyasviel/ControlNet-v1-1-nightly\n",
        "!pip install -q gradio einops transformers open_clip_torch pytorch_lightning==1.7.7 omegaconf xformers==0.0.18 triton==2.0.0 basicsr safetensors\n",
        "!apt -y install -qq aria2\n",
        "\n",
        "!aria2c --console-log-level=error -c -x 16 -s 16 -k 1M https://huggingface.co/Linaqruf/anything-v3.0/resolve/main/anything-v3-full.safetensors -d /content/ControlNet-v1-1-nightly/models -o anything-v3-full.safetensors\n",
        "!aria2c --console-log-level=error -c -x 16 -s 16 -k 1M https://huggingface.co/lllyasviel/ControlNet-v1-1/resolve/main/control_v11p_sd15s2_lineart_anime.pth -d /content/ControlNet-v1-1-nightly/models -o control_v11p_sd15s2_lineart_anime.pth \n",
        "\n",
        "%cd /content/ControlNet-v1-1-nightly\n",
        "!sed -i \"s/block.launch(server_name='0.0.0.0')/block.launch(server_name='0.0.0.0', share=True)/g\" gradio_lineart_anime.py\n",
        "\n",
        "%cd /content/ControlNet-v1-1-nightly\n",
        "!python gradio_lineart_anime.py"
      ]
    },
    {
      "cell_type": "code",
      "execution_count": null,
      "metadata": {
        "id": "YubrYoAThN9C"
      },
      "outputs": [],
      "source": [
        "%cd /content/ControlNet-v1-1-nightly\n",
        "!python gradio_annotator.py"
      ]
    },
    {
      "cell_type": "code",
      "execution_count": null,
      "metadata": {
        "colab": {
          "base_uri": "https://localhost:8080/"
        },
        "id": "cG1tHwxOhUtW",
        "outputId": "47305d9f-3b25-4dc0-9018-88b87e0fe70d"
      },
      "outputs": [],
      "source": [
        "%cd /content/ControlNet-v1-1-nightly\n",
        "!python gradio_canny.py"
      ]
    },
    {
      "cell_type": "code",
      "execution_count": null,
      "metadata": {
        "id": "OSK0CipvhVkq"
      },
      "outputs": [],
      "source": [
        "%cd /content/ControlNet-v1-1-nightly\n",
        "!python gradio_depth.py"
      ]
    },
    {
      "cell_type": "code",
      "execution_count": null,
      "metadata": {
        "id": "-dC1G7EohWR5"
      },
      "outputs": [],
      "source": [
        "%cd /content/ControlNet-v1-1-nightly\n",
        "!python gradio_inpaint.py"
      ]
    },
    {
      "cell_type": "code",
      "execution_count": null,
      "metadata": {
        "id": "7yAIuSbHhXRa"
      },
      "outputs": [],
      "source": [
        "%cd /content/ControlNet-v1-1-nightly\n",
        "!python gradio_ip2p.py"
      ]
    },
    {
      "cell_type": "code",
      "execution_count": null,
      "metadata": {
        "id": "LjMMt88vhYBe"
      },
      "outputs": [],
      "source": [
        "%cd /content/ControlNet-v1-1-nightly\n",
        "!python gradio_lineart.py"
      ]
    },
    {
      "cell_type": "code",
      "execution_count": null,
      "metadata": {
        "id": "0lQGmHLShYwt"
      },
      "outputs": [],
      "source": [
        "%cd /content/ControlNet-v1-1-nightly\n",
        "!python gradio_lineart_anime.py"
      ]
    },
    {
      "cell_type": "code",
      "execution_count": null,
      "metadata": {
        "id": "At04YVZthZg-"
      },
      "outputs": [],
      "source": [
        "%cd /content/ControlNet-v1-1-nightly\n",
        "!python gradio_mlsd.py"
      ]
    },
    {
      "cell_type": "code",
      "execution_count": null,
      "metadata": {
        "id": "AImJKWuDhaTQ"
      },
      "outputs": [],
      "source": [
        "%cd /content/ControlNet-v1-1-nightly\n",
        "!python gradio_normalbae.py"
      ]
    },
    {
      "cell_type": "code",
      "execution_count": null,
      "metadata": {
        "id": "9L68RBEXha-2"
      },
      "outputs": [],
      "source": [
        "%cd /content/ControlNet-v1-1-nightly\n",
        "!python gradio_openpose.py"
      ]
    },
    {
      "cell_type": "code",
      "execution_count": null,
      "metadata": {
        "id": "LcNlPjbahbnZ"
      },
      "outputs": [],
      "source": [
        "%cd /content/ControlNet-v1-1-nightly\n",
        "!python gradio_scribble.py"
      ]
    },
    {
      "cell_type": "code",
      "execution_count": null,
      "metadata": {
        "id": "VYnaiKwThcdx"
      },
      "outputs": [],
      "source": [
        "%cd /content/ControlNet-v1-1-nightly\n",
        "!python gradio_scribble_interactive.py"
      ]
    },
    {
      "cell_type": "code",
      "execution_count": null,
      "metadata": {
        "id": "sEEJsyDDhdPG"
      },
      "outputs": [],
      "source": [
        "%cd /content/ControlNet-v1-1-nightly\n",
        "!python gradio_seg.py"
      ]
    },
    {
      "cell_type": "code",
      "execution_count": null,
      "metadata": {
        "id": "T5D3-agHhd-V"
      },
      "outputs": [],
      "source": [
        "%cd /content/ControlNet-v1-1-nightly\n",
        "!python gradio_shuffle.py"
      ]
    },
    {
      "cell_type": "code",
      "execution_count": null,
      "metadata": {
        "id": "3eh9m56xhemp"
      },
      "outputs": [],
      "source": [
        "%cd /content/ControlNet-v1-1-nightly\n",
        "!python gradio_softedge.py"
      ]
    },
    {
      "cell_type": "code",
      "execution_count": null,
      "metadata": {
        "id": "lc0wKcLFhfP5"
      },
      "outputs": [],
      "source": [
        "%cd /content/ControlNet-v1-1-nightly\n",
        "!python gradio_tile.py"
      ]
    }
  ],
  "metadata": {
    "accelerator": "GPU",
    "colab": {
      "provenance": []
    },
    "gpuClass": "standard",
    "kernelspec": {
      "display_name": "Python 3",
      "name": "python3"
    },
    "language_info": {
      "name": "python"
    }
  },
  "nbformat": 4,
  "nbformat_minor": 0
}
